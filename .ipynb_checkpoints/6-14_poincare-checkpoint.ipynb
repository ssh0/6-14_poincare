{
 "metadata": {
  "kernelspec": {
   "codemirror_mode": {
    "name": "ipython",
    "version": 2
   },
   "display_name": "IPython (Python 2)",
   "language": "python",
   "name": "python2"
  },
  "name": "",
  "signature": "sha256:7375b361f286cd9e8604fb0f4f86fc590358991a146ab1bdb1199cdfb81787f4"
 },
 "nbformat": 3,
 "nbformat_minor": 0,
 "worksheets": [
  {
   "cells": [
    {
     "cell_type": "heading",
     "level": 1,
     "metadata": {
      "slideshow": {
       "slide_type": "slide"
      }
     },
     "source": [
      "\u8a08\u7b97\u6a5f\u5b9f\u7fd2 \u554f\u984c6-14 - \u5916\u529b\u3092\u53d7\u3051\u305f\u6e1b\u8870\u632f\u308a\u5b50"
     ]
    },
    {
     "cell_type": "heading",
     "level": 2,
     "metadata": {
      "slideshow": {
       "slide_type": "slide"
      }
     },
     "source": [
      "\u30b7\u30df\u30e5\u30ec\u30fc\u30b7\u30e7\u30f3\u306e\u76ee\u7684"
     ]
    },
    {
     "cell_type": "markdown",
     "metadata": {
      "slideshow": {
       "slide_type": "subslide"
      }
     },
     "source": [
      "\u53e4\u5178\u529b\u5b66\u3067\u8a18\u8ff0\u3055\u308c\u308b\u975e\u7dda\u5f62\u529b\u5b66\u7cfb\u306e\u3088\u304f\u77e5\u3089\u308c\u305f\u4f8b\u3067\u3042\u308b\u5358\u632f\u308a\u5b50\u306b\u3064\u3044\u3066\u3001\u4e00\u6b21\u306e\u6e1b\u8870\u9805\u304c\u3042\u3063\u3066\u3001\u632f\u308a\u5b50\u306e\u652f\u70b9\u304c\u5782\u76f4\u65b9\u5411\u306b\u52d5\u304b\u3055\u308c\u308b\u5834\u5408\u3092\u8003\u3048\u3088\u3046\u3002\u3053\u306e\u7cfb\u306b\u5bfe\u3059\u308b\u30cb\u30e5\u30fc\u30c8\u30f3\u306e\u7b2c2\u6cd5\u5247\u306f\n",
      "\n",
      "\\begin{equation}\n",
      "    \\frac{ d^{2}\\theta }{ dt^{2} } = -\\gamma \\frac{ d\\theta }{dt}-[\\omega_{0}^{2} + 2A \\cos \\omega t]\\sin \\theta\n",
      "\\end{equation}\n",
      "\n",
      "\u3068\u66f8\u304d\u8868\u3055\u308c\u308b\u3002\u3053\u3053\u3067$\\theta$\u306f\u632f\u308a\u5b50\u304c\u925b\u76f4\u8ef8\u3068\u306a\u3059\u89d2\u5ea6\u3001$\\gamma$\u306f\u6e1b\u8870\u5b9a\u6570\u3001$\\omega_{0}^{2}=g/L$\u306f\u632f\u308a\u5b50\u306e\u81ea\u7136\u632f\u52d5\u6570\u3001$\\omega$\u3068$A$\u306f\u305d\u308c\u305e\u308c\u5916\u529b\u306e\u632f\u52d5\u6570\u3068\u632f\u5e45\u3067\u3042\u308b\u3002\u652f\u70b9\u3092\u5782\u76f4\u65b9\u5411\u306b\u52a0\u901f\u3059\u308b\u3053\u3068\u306f\u6642\u9593\u306b\u4f9d\u5b58\u3059\u308b\u91cd\u529b\u5834\u3092\u8003\u3048\u308b\u3053\u3068\u3068\u7b49\u4fa1\u3067\u3042\u308b\u3002\n",
      "\u3053\u306e\u5916\u529b\u3092\u53d7\u3051\u305f\u6e1b\u8870\u306e\u3042\u308b\u5358\u632f\u308a\u5b50\u306f\u3069\u306e\u3088\u3046\u306b\u632f\u308b\u821e\u3046\u3068\u4e88\u60f3\u3055\u308c\u308b\u304b\u3002\u6e1b\u8870\u9805\u304c\u5b58\u5728\u3059\u308b\u305f\u3081\u306b\u3001\u5916\u529b\u304c\u306a\u3044\u3068\u304d\u306b\u306f\u632f\u308a\u5b50\u306f\u9759\u6b62\u3057\u3066\u3057\u307e\u3046\u3002\u3064\u307e\u308a\u3001($x=0$\u3001$y=0$)\u306f\u5b89\u5b9a\u306a\u30a2\u30c8\u30e9\u30af\u30bf\u3067\u3042\u308b\u3002$A$\u30920\u304b\u3089\u5927\u304d\u304f\u3057\u3066\u3044\u304f\u3068\u304d\u3001\u5c0f\u3055\u306a$A$\u306b\u5bfe\u3057\u3066\u306f\u3053\u306e\u30a2\u30c8\u30e9\u30af\u30bf\u306f\u5b89\u5b9a\u3067\u3042\u308b\u3002\u3057\u304b\u3057\u3001$A$\u304c\u3042\u308b\u5024$\\mathrm{A}_{c}$\u3092\u8d85\u3048\u308b\u3068\u3001\u3053\u306e\u30a2\u30c8\u30e9\u30af\u30bf\u306f\u4e0d\u5b89\u5b9a\u3068\u306a\u308b\u3002\u632f\u5e45$A$\u3092\u5927\u304d\u304f\u3057\u3066\u3044\u304f\u3068\u304d\u3001\u3053\u306e\u5916\u529b\u3092\u53d7\u3051\u305f\u975e\u7dda\u5f62\u306a\u632f\u308a\u5b50\u306f\u3069\u306e\u3088\u3046\u306b\u632f\u308b\u821e\u3046\u3060\u308d\u3046\u304b\u3002\u904b\u52d5\u306e(\u5b89\u5b9a\u3068\u4e0d\u5b89\u5b9a)\u56fa\u5b9a\u70b9\u306b\u4e3b\u306b\u8208\u5473\u304c\u3042\u308b\u306e\u3067\u3001\u5916\u529b\u306e\u5468\u671fT\u3054\u3068\u306b\u4f4d\u76f8\u7a7a\u9593\u306b\u70b9\u3092\u30d7\u30ed\u30c3\u30c8\u3057\u3066\u3001\u904b\u52d5\u306e\u89e3\u6790\u3092\u884c\u3046\u306e\u304c\u3088\u3044\u3002\u4f4d\u76f8\u7a7a\u9593\u306b\u304a\u3051\u308b\u305d\u306e\u3088\u3046\u306a\u56f3\u306f\u30dd\u30a2\u30f3\u30ab\u30ec(Poincar\\'{e})\u30fb\u30d7\u30ed\u30c3\u30c8\u3068\u547c\u3070\u308c\u3066\u3044\u308b\u3002\u3057\u305f\u304c\u3063\u3066\u3001$n=1,2,3\\cdots$\u3068\u3057\u3066\u3001$t=n\\mathrm{T}$\u3067$d\\theta/ dt$\u3092$\\theta$\u306b\u5bfe\u3057\u3066\u30d7\u30ed\u30c3\u30c8\u3059\u308b\u3002\u7cfb\u306e\u5468\u671f\u304cT\u306e\u6642\u306b\u306f\u30dd\u30a2\u30f3\u30ab\u30ec\u30fb\u30d7\u30ed\u30c3\u30c8\u306f\u5358\u4e00\u306e\u70b9\u304b\u3089\u306a\u308a\u3001\u5468\u671f\u304c$m\\mathrm{T}$\u306e\u3068\u304d\u306b\u306f$m$\u500b\u306e\u70b9\u304b\u3089\u306a\u308b\u3002"
     ]
    },
    {
     "cell_type": "heading",
     "level": 2,
     "metadata": {
      "slideshow": {
       "slide_type": "slide"
      }
     },
     "source": [
      "\u5b9f\u7fd2\u8ab2\u984c"
     ]
    },
    {
     "cell_type": "heading",
     "level": 3,
     "metadata": {
      "slideshow": {
       "slide_type": "subslide"
      }
     },
     "source": [
      "\u554f\u984c a\uff1a"
     ]
    },
    {
     "cell_type": "markdown",
     "metadata": {
      "slideshow": {
       "slide_type": "fragment"
      }
     },
     "source": [
      "\u5916\u529b\u3092\u53d7\u3051\u305f\u5358\u7d14\u6e1b\u8870\u632f\u308a\u5b50\u306e\u30b7\u30df\u30e5\u30ec\u30fc\u30b7\u30e7\u30f3\u3092\u884c\u3048\u3002\u30d7\u30ed\u30b0\u30e9\u30e0\u3067\u306f\u3001\u5916\u529b\u306e\u5468\u671fT\u304c$\\pi$\u306b\u7b49\u3057\u304f\u306a\u308b\u3088\u3046\u306b$\\omega=2$\u3001\u307e\u305f\u3001$\\omega_{0}=1$\u3092\u4eee\u5b9a\u3057\u3066\u3088\u3044\u3002$\\gamma=0.2$\u3068$A=0.85$\u3092\u7528\u3044\u3066\u3001\u4f4d\u76f8\u7a7a\u9593\u306e\u8ecc\u8de1\u3092\u8a08\u7b97\u305b\u3088\u3002\u521d\u671f\u306e\u904e\u6e21\u73fe\u8c61\u306e\u5f8c\u306b\u3001\u30dd\u30a2\u30f3\u30ab\u30ec\u30fb\u30d7\u30ed\u30c3\u30c8\u306b\u306f\u4f55\u500b\u306e\u70b9\u304c\u3042\u308b\u304b\u3002\u3053\u306e\u3053\u3068\u304b\u3089\u632f\u308a\u5b50\u306e\u5468\u671f\u306f\u3044\u304f\u3089\u304b\u6c42\u3081\u3088\u3002$\\theta$\u3068$d\\theta /dt$\u306e\u521d\u671f\u5024\u3092\u5909\u3048\u3066\u307f\u3088\u3002\u30a2\u30c8\u30e9\u30af\u30bf\u306f\u521d\u671f\u6761\u4ef6\u306b\u4f9d\u5b58\u3057\u306a\u3044\u304b\u3002\u521d\u671f\u306e\u904e\u6e21\u73fe\u8c61\u3092\u7121\u8996\u3059\u308b\u3053\u3068\u3092\u5fd8\u308c\u306a\u3044\u3053\u3068\u3002"
     ]
    },
    {
     "cell_type": "markdown",
     "metadata": {
      "slideshow": {
       "slide_type": "subslide"
      }
     },
     "source": [
      "$\\gamma=0.2$\u3068$A=0.85$\u3068\u3057\u3066\u521d\u671f\u5024$\\theta=0.3$\u3001$d\\theta /dt=0$\u3068\u3057\u3066\u4f4d\u76f8\u7a7a\u9593\u306b\u5916\u529b\u306e\u5468\u671fT\u3054\u3068\u306b200\u56de\u8a08\u7b97\u3092\u884c\u3044\u3001\u3046\u3061\u6700\u5f8c\u306e100\u56de\u3092\u30d7\u30ed\u30c3\u30c8\u3057\u305f\u3002"
     ]
    },
    {
     "cell_type": "code",
     "collapsed": false,
     "input": [
      "%matplotlib inline\n",
      "from math import *\n",
      "import numpy as np\n",
      "import matplotlib.pyplot as plt\n",
      "plt.rcParams['figure.figsize'] = 12, 9\n",
      "from IPython.html import widgets\n",
      "from IPython.html.widgets import interact, interactive\n",
      "from IPython.display import display"
     ],
     "language": "python",
     "metadata": {
      "slideshow": {
       "slide_type": "fragment"
      }
     },
     "outputs": [],
     "prompt_number": 1
    },
    {
     "cell_type": "code",
     "collapsed": false,
     "input": [
      "class RK4(object):\n",
      "\n",
      "    def __init__(self, function):\n",
      "        \"\"\" Initialize function.\"\"\"\n",
      "        self.function = function\n",
      "        \n",
      "    def solve(self, y, t, h):\n",
      "        \"\"\" Solve the system ODEs.\n",
      "\n",
      "        --- arguments ---\n",
      "        y: A list of initial values\n",
      "        t: Time (float)\n",
      "        h: Stepsize (float)\n",
      "        \"\"\"\n",
      "        f = self.function\n",
      "        k1 = h * f(t, *y)\n",
      "        k2 = h * f(t+0.5*h, *[y[i]+0.5*h*k1[i] for i in range(len(y))])\n",
      "        k3 = h * f(t+0.5*h, *[y[i]+0.5*h*k2[i] for i in range(len(y))])\n",
      "        k4 = h * f(t+1.0*h, *[y[i]+0.5*h*k3[i] for i in range(len(y))])\n",
      "\n",
      "        y = np.array([y[i] + (k1[i]+2*k2[i]+2*k3[i]+k4[i])/6.0\n",
      "                      for i in range(len(y))\n",
      "                      ])\n",
      "        return y"
     ],
     "language": "python",
     "metadata": {
      "slideshow": {
       "slide_type": "fragment"
      }
     },
     "outputs": [],
     "prompt_number": 2
    },
    {
     "cell_type": "code",
     "collapsed": false,
     "input": [
      "class Pendulum(object):\n",
      "\n",
      "    def __init__(self):\n",
      "        # --- parameters ---\n",
      "        self.omega0 = 1\n",
      "        self.omega = 2\n",
      "        self.T = pi  # (2*pi)/omega (time period)\n",
      "        self.nstep = 1000\n",
      "        self.dt = self.T / self.nstep  # stepsize in a time period\n",
      "        self.ntransient = 100\n",
      "        self.nplot = 100\n",
      "        self.nmax = self.ntransient + self.nplot\n",
      "\n",
      "    def assignment(self, theta=0.3, ang_vel=0.0, gamma=0.2, A=0.85):\n",
      "        pass\n",
      "\n",
      "    def force(self, t, *y):\n",
      "        theta = y[0]\n",
      "        ang_vel = y[1]\n",
      "        return np.array([ang_vel, - self.gamma * ang_vel\n",
      "                         - (self.omega0**2 + 2*self.A*cos(self.omega*t))*sin(theta)\n",
      "                         ])\n",
      "\n",
      "    def plot(self, y, function):\n",
      "        \"\"\" Show an animation of Poincare plot.\n",
      "\n",
      "        --- arguments ---\n",
      "        y: A list of initial values\n",
      "        function: function which is argument of Runge-Kutta solver\n",
      "        \"\"\"\n",
      "        h = self.dt\n",
      "        fig = plt.figure()\n",
      "        ax = fig.add_subplot(111)\n",
      "        ax.grid()\n",
      "        time_text = ax.text(0.05, 0.9, '', transform=ax.transAxes)\n",
      "        plt.ion()\n",
      "\n",
      "        for i in range(self.nmax + 1):\n",
      "            for j in range(self.nstep):\n",
      "                rk4 = RK4(function)\n",
      "                y = rk4.solve(y, j * h, h)\n",
      "                # -pi <= theta <= pi\n",
      "                while y[0] > pi:\n",
      "                    y[0] = y[0] - 2 * pi\n",
      "                while y[0] < -pi:\n",
      "                    y[0] = y[0] + 2 * pi\n",
      "\n",
      "            if self.ntransient <= i < self.nmax:  # draw the poincare plots\n",
      "                plt.scatter(y[0], y[1], s=2.0, marker='o', color='blue')\n",
      "                time_text.set_text('n = %d' % i)\n",
      "                plt.draw()\n",
      "\n",
      "            if i == self.nmax:  # <-- to stop the interactive mode\n",
      "                plt.ioff()\n",
      "                plt.scatter(y[0], y[1], s=2.0, marker='o', color='blue')\n",
      "                time_text.set_text('n = %d' % i)\n",
      "                # out of IPython\n",
      "                # plt.show()"
     ],
     "language": "python",
     "metadata": {
      "slideshow": {
       "slide_type": "subslide"
      }
     },
     "outputs": [],
     "prompt_number": 3
    },
    {
     "cell_type": "code",
     "collapsed": false,
     "input": [
      "app = Pendulum()\n",
      "\n",
      "w = interactive(app.assignment, theta=(0., 2*np.pi, 0.1), ang_vel=2,\n",
      "                gamma=(0., 1.0, 0.01), A=(0., 2., 0.1))\n",
      "display(w)\n",
      "button = widgets.Button(description='Run')\n",
      "display(button)\n",
      "def on_clicked(event):\n",
      "    kw = w.kwargs\n",
      "    theta = kw['theta']\n",
      "    ang_vel = kw['ang_vel']\n",
      "    app.gamma = kw['gamma']\n",
      "    app.A = kw['A']\n",
      "    app.plot(np.array([theta, ang_vel]), app.force)\n",
      "button.on_click(on_clicked)    "
     ],
     "language": "python",
     "metadata": {
      "slideshow": {
       "slide_type": "subslide"
      }
     },
     "outputs": []
    },
    {
     "cell_type": "markdown",
     "metadata": {
      "slideshow": {
       "slide_type": "fragment"
      }
     },
     "source": [
      "\u30d7\u30ed\u30c3\u30c8\u3055\u308c\u3066\u3044\u308b\u70b9\u304c2\u3064\u3057\u304b\u306a\u3044\u305f\u3081\u3001\u632f\u308a\u5b50\u306e\u5468\u671f\u306f$2\\mathrm{T}=2\\pi$\u3067\u3042\u308b\u3053\u3068\u304c\u308f\u304b\u308b\u3002\u307e\u305f\u3001\u81ea\u660e\u306a\u3053\u3068\u3067\u306f\u3042\u308b\u304c\u3001\u30a2\u30c8\u30e9\u30af\u30bf\u306e\u4f4d\u7f6e\u306f\u521d\u671f\u6761\u4ef6\u306b\u4f9d\u5b58\u3059\u308b\u3002\u305f\u3060\u3057\u3001\u632f\u308a\u5b50\u306e\u5468\u671f\u306f\u3001\u904b\u52d5\u306e\u56fa\u5b9a\u70b9\u4ee5\u5916\u3067\u3042\u308c\u3070\u5909\u308f\u3089\u306a\u3044\u3002\u56fa\u5b9a\u70b9\u3067\u306f\u5468\u671f1\u3067\u3042\u308b\u3002"
     ]
    },
    {
     "cell_type": "heading",
     "level": 3,
     "metadata": {
      "slideshow": {
       "slide_type": "slide"
      }
     },
     "source": [
      "\u554f\u984c b\uff1a"
     ]
    },
    {
     "cell_type": "markdown",
     "metadata": {
      "slideshow": {
       "slide_type": "fragment"
      }
     },
     "source": [
      "$\\theta$\u3068$d\\theta /dt$\u3092$t$\u306e\u95a2\u6570\u3068\u3057\u3066\u30d7\u30ed\u30c3\u30c8\u305b\u3088\u3002\u305d\u3057\u3066\u30dd\u30a2\u30f3\u30ab\u30ec\u30fb\u30d7\u30ed\u30c3\u30c8\u3001\u4f4d\u76f8\u7a7a\u9593\u306e\u56f3\u3001$\\theta$\u3084$d\\theta /dt$\u306e$t$\u4f9d\u5b58\u6027\u306e\u95a2\u4fc2\u3092\u5b9a\u6027\u7684\u306b\u8ff0\u3079\u3088\u3002"
     ]
    },
    {
     "cell_type": "code",
     "collapsed": false,
     "input": [
      "class Pendulum_iteratemap:\n",
      "    \n",
      "    def __init__(self):\n",
      "        # --- parameters ---\n",
      "        self.omega0 = 1\n",
      "        self.omega = 2\n",
      "        self.T = pi                  # <-- (2*pi)/omega (time period)\n",
      "        self.tmax = 10. * self.T\n",
      "        self.dt = 0.1                # stepsize in a time period\n",
      "\n",
      "    def assign(self, theta=0.3, ang_vel=0.0, gamma=0.2, A=0.85):\n",
      "        self.theta = theta\n",
      "        self.ang_vel = ang_vel\n",
      "        self.gamma = gamma\n",
      "        self.A = A\n",
      "        self.plot(function=self.force)\n",
      "        \n",
      "    def force(self, t, *y):\n",
      "        theta = y[0]\n",
      "        ang_vel = y[1]\n",
      "        return np.array([ang_vel, -self.gamma*ang_vel -\n",
      "                         (self.omega0**2 + 2*self.A*cos(self.omega*t))*sin(theta)\n",
      "                         ])\n",
      "\n",
      "    def plot(self, function):\n",
      "        \"\"\" Show an animation of Poincare plot.\n",
      "\n",
      "        --- arguments ---\n",
      "        y: A list of initial values\n",
      "        function: function which is argument of Runge-Kutta solver\n",
      "        \"\"\"\n",
      "        y = np.array([self.theta, self.ang_vel])\n",
      "        h = self.dt\n",
      "        rk4 = RK4(function)\n",
      "\n",
      "        def calc(y, t, h):\n",
      "            y = rk4.solve(y, t, h)\n",
      "            # -pi <= theta <= pi\n",
      "            while y[0] > pi:\n",
      "                y[0] = y[0] - 2 * pi\n",
      "            while y[0] < -pi:\n",
      "                y[0] = y[0] + 2 * pi\n",
      "            return y\n",
      "\n",
      "        t = np.arange(0, self.tmax, self.dt)\n",
      "        res_theta = np.zeros(len(t), np.float32)\n",
      "        res_ang_vel = np.zeros(len(t), np.float32)\n",
      "\n",
      "        for i, _t in enumerate(t):\n",
      "            res_theta[i] = y[0]\n",
      "            res_ang_vel[i] = y[1]\n",
      "            y = calc(y, _t, h)\n",
      "\n",
      "        fig = plt.figure()\n",
      "        fig.subplots_adjust(hspace=0.4)\n",
      "\n",
      "        ax1 = fig.add_subplot(211)\n",
      "        ax1.plot(t, res_theta, label=r'$\\theta$')\n",
      "        ax1.set_xlim(0, self.tmax)\n",
      "        plt.xlabel(r'$t$', fontsize=16)\n",
      "        plt.ylabel(r'$\\theta$', fontsize=16)\n",
      "        plt.title(r'$t\\ -\\ \\theta$')\n",
      "        plt.legend(loc=\"best\")\n",
      "\n",
      "        ax2 = fig.add_subplot(212)\n",
      "        ax2.plot(t, res_ang_vel, label=r'$d\\theta /dt$')\n",
      "        ax2.set_xlim(0, self.tmax)\n",
      "        plt.xlabel(r'$t$', fontsize=16)\n",
      "        plt.ylabel(r'$d\\theta /dt$', fontsize=16)\n",
      "        plt.title(r'$t\\ -\\ d\\theta /dt$')\n",
      "        plt.legend(loc=\"best\")\n",
      "\n",
      "        plt.show()"
     ],
     "language": "python",
     "metadata": {
      "slideshow": {
       "slide_type": "subslide"
      }
     },
     "outputs": [],
     "prompt_number": 1
    },
    {
     "cell_type": "code",
     "collapsed": false,
     "input": [
      "run = Pendulum_iteratemap()\n",
      "\n",
      "i = interactive(run.assign, theta=(0., 2*np.pi, 0.1), ang_vel=2,\n",
      "                gamma=(0., 1.0, 0.01), A=(0., 2., 0.1))\n",
      "display(i)"
     ],
     "language": "python",
     "metadata": {
      "slideshow": {
       "slide_type": "subslide"
      }
     },
     "outputs": [
      {
       "metadata": {},
       "output_type": "display_data",
       "png": "[encoded data removed]",
       "text": [
        "<matplotlib.figure.Figure at 0x7f2fcfe93990>"
       ]
      }
     ],
     "prompt_number": 22
    },
    {
     "cell_type": "markdown",
     "metadata": {
      "slideshow": {
       "slide_type": "fragment"
      }
     },
     "source": [
      "\u56f3\u3092\u898b\u308b\u3068\u3001t\u306e\u5927\u304d\u3044\u3068\u3053\u308d\u3067\u306f$\\theta$\u3068$d\\theta /dt$\u306ft\u306b\u5bfe\u3057\u3066\u5468\u671f\u95a2\u6570\u3068\u3057\u3066\u632f\u821e\u3063\u3066\u3044\u308b\u3053\u3068\u304c\u308f\u304b\u308b\u3002\u3053\u308c\u306f\u5148\u7a0b\u30dd\u30a2\u30f3\u30ab\u30ec\u30fb\u30d7\u30ed\u30c3\u30c8\u3088\u308a\u5f97\u3089\u308c\u305f\u7406\u89e3\u3068\u4e00\u81f4\u3059\u308b\u3002"
     ]
    },
    {
     "cell_type": "heading",
     "level": 2,
     "metadata": {
      "slideshow": {
       "slide_type": "slide"
      }
     },
     "source": [
      "\u307e\u3068\u3081"
     ]
    },
    {
     "cell_type": "markdown",
     "metadata": {
      "slideshow": {
       "slide_type": "fragment"
      }
     },
     "source": [
      "4\u6b21\u306e\u30eb\u30f3\u30b2\u30af\u30c3\u30bf\u6cd5\u3092\u7528\u3044\u305f\u8a08\u7b97\u3067\u3001\u5916\u529b\u3092\u53d7\u3051\u305f\u5358\u7d14\u6e1b\u8870\u632f\u308a\u5b50\u306e\u30b7\u30df\u30e5\u30ec\u30fc\u30b7\u30e7\u30f3\u3092\u884c\u3046\u3053\u3068\u304c\u3067\u304d\u305f\u3002\u8ab2\u984cc,d,e,f\u306b\u3042\u308b\u3088\u3046\u306b\u3001\u3053\u306e\u7cfb\u306f\u5916\u529b\u306e\u632f\u5e45$A$\u3092\u30d1\u30e9\u30e1\u30fc\u30bf\u3068\u3057\u3066\u5468\u671f\u500d\u5316\u306e\u6027\u8cea\u3092\u898b\u308b\u3053\u3068\u304c\u3067\u304d\u308b\u3002\u6642\u9593\u306e\u90fd\u5408\u4e0a\u53d6\u308a\u7d44\u3080\u3053\u3068\u304c\u3067\u304d\u306a\u304b\u3063\u305f\u304c\u3001\u77e5\u8b58\u3068\u3057\u3066\u899a\u3048\u3066\u304a\u304d\u305f\u3044\u3068\u601d\u3046\u3002"
     ]
    },
    {
     "cell_type": "heading",
     "level": 2,
     "metadata": {
      "slideshow": {
       "slide_type": "slide"
      }
     },
     "source": [
      "\u53c2\u8003\u6587\u732e"
     ]
    },
    {
     "cell_type": "markdown",
     "metadata": {},
     "source": [
      "- \u30cf\u30fc\u30d9\u30a4\u30fb\u30b4\u30fc\u30eb\u30c9,\u30b8\u30e3\u30f3\u30fb\u30c8\u30dc\u30c1\u30cb\u30af,\u77f3\u5ddd\u6b63\u52dd\u30fb\u5bae\u5cf6\u4f50\u4ecb\u8a33\u300e\u8a08\u7b97\u7269\u7406\u5b66\u5165\u9580\u300f,\u30d4\u30a2\u30bd\u30f3\u30fb\u30a8\u30c7\u30e5\u30b1\u30fc\u30b7\u30e7\u30f3, 2000."
     ]
    }
   ],
   "metadata": {}
  }
 ]
}